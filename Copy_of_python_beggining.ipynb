{
  "nbformat": 4,
  "nbformat_minor": 0,
  "metadata": {
    "kernelspec": {
      "display_name": "Python 3",
      "language": "python",
      "name": "python3"
    },
    "language_info": {
      "codemirror_mode": {
        "name": "ipython",
        "version": 3
      },
      "file_extension": ".py",
      "mimetype": "text/x-python",
      "name": "python",
      "nbconvert_exporter": "python",
      "pygments_lexer": "ipython3",
      "version": "3.6.8"
    },
    "colab": {
      "name": "Copy of python beggining.ipynb",
      "provenance": [],
      "collapsed_sections": [
        "0CCpEb7t_Nyq"
      ],
      "include_colab_link": true
    }
  },
  "cells": [
    {
      "cell_type": "markdown",
      "metadata": {
        "id": "view-in-github",
        "colab_type": "text"
      },
      "source": [
        "<a href=\"https://colab.research.google.com/github/MatanArk/DSArkp2/blob/master/Copy_of_python_beggining.ipynb\" target=\"_parent\"><img src=\"https://colab.research.google.com/assets/colab-badge.svg\" alt=\"Open In Colab\"/></a>"
      ]
    },
    {
      "cell_type": "markdown",
      "metadata": {
        "id": "LlUmkJae_Nu-",
        "colab_type": "text"
      },
      "source": [
        "# Python exercises to begin with\n",
        "Here you will find a lot of simple python exercises, for you to feel comfortable around python and jupyter notebook. No need to do them all! but still, they are here for you to practice your skills, so make sure you finish only when you fill comfortable around.\n",
        "\n",
        "Note: take a look at the few examples for recursion  at the end of the list.\n",
        "\n",
        "\n",
        "-----------------------------------"
      ]
    },
    {
      "cell_type": "markdown",
      "metadata": {
        "id": "r37_IjP-_NvB",
        "colab_type": "text"
      },
      "source": [
        "Question 1\n",
        "Level 1\n",
        "\n",
        "Question:\n",
        "Write a program which will find all such numbers which are divisible by 7 but are not a multiple of 5,\n",
        "between 2000 and 3200 (both included).\n",
        "The numbers obtained should be printed in a comma-separated sequence on a single line.\n",
        "\n",
        "Hints: \n",
        "Consider use range(#begin, #end) method\n",
        "\n"
      ]
    },
    {
      "cell_type": "code",
      "metadata": {
        "id": "oxMwleWq_NvD",
        "colab_type": "code",
        "colab": {
          "base_uri": "https://localhost:8080/",
          "height": 54
        },
        "outputId": "5463c7d3-35c3-499a-adf2-1f0391a1f1bb"
      },
      "source": [
        "START            = 2000\n",
        "END              = 3200\n",
        "DIVISIBLE_BY     = 7\n",
        "NOT_DIVISIBLE_BY = 5\n",
        "\n",
        "start_remainder = START % DIVISIBLE_BY\n",
        "\n",
        "for x in range (START + DIVISIBLE_BY % start_remainder, END, DIVISIBLE_BY):\n",
        "  if x % 5 != 0:\n",
        "    print(x,end=\", \")"
      ],
      "execution_count": 5,
      "outputs": [
        {
          "output_type": "stream",
          "text": [
            "2002, 2009, 2016, 2023, 2037, 2044, 2051, 2058, 2072, 2079, 2086, 2093, 2107, 2114, 2121, 2128, 2142, 2149, 2156, 2163, 2177, 2184, 2191, 2198, 2212, 2219, 2226, 2233, 2247, 2254, 2261, 2268, 2282, 2289, 2296, 2303, 2317, 2324, 2331, 2338, 2352, 2359, 2366, 2373, 2387, 2394, 2401, 2408, 2422, 2429, 2436, 2443, 2457, 2464, 2471, 2478, 2492, 2499, 2506, 2513, 2527, 2534, 2541, 2548, 2562, 2569, 2576, 2583, 2597, 2604, 2611, 2618, 2632, 2639, 2646, 2653, 2667, 2674, 2681, 2688, 2702, 2709, 2716, 2723, 2737, 2744, 2751, 2758, 2772, 2779, 2786, 2793, 2807, 2814, 2821, 2828, 2842, 2849, 2856, 2863, 2877, 2884, 2891, 2898, 2912, 2919, 2926, 2933, 2947, 2954, 2961, 2968, 2982, 2989, 2996, 3003, 3017, 3024, 3031, 3038, 3052, 3059, 3066, 3073, 3087, 3094, 3101, 3108, 3122, 3129, 3136, 3143, 3157, 3164, 3171, 3178, 3192, 3199, "
          ],
          "name": "stdout"
        }
      ]
    },
    {
      "cell_type": "markdown",
      "metadata": {
        "id": "juVSygkN_NvI",
        "colab_type": "text"
      },
      "source": [
        "\n",
        "Question 2\n",
        "Level 1\n",
        "\n",
        "Question:\n",
        "Write a program which can compute the factorial of a given numbers.\n",
        "The results should be printed in a comma-separated sequence on a single line.\n",
        "Suppose the following input is supplied to the program:\n",
        "8\n",
        "Then, the output should be:\n",
        "40320\n",
        "\n",
        "Hints:\n",
        "In case of input data being supplied to the question, it should be assumed to be a console input.\n",
        "\n"
      ]
    },
    {
      "cell_type": "code",
      "metadata": {
        "id": "_aa7eAb0_NvJ",
        "colab_type": "code",
        "colab": {
          "base_uri": "https://localhost:8080/",
          "height": 34
        },
        "outputId": "54973889-9847-4b3d-fdb4-d1e352feac21"
      },
      "source": [
        "result = 1\n",
        "INPUT  = 8\n",
        "\n",
        "for x in range(INPUT,1,-1):\n",
        "  result = result * x\n",
        "\n",
        "print(result)"
      ],
      "execution_count": 13,
      "outputs": [
        {
          "output_type": "stream",
          "text": [
            "40320\n"
          ],
          "name": "stdout"
        }
      ]
    },
    {
      "cell_type": "markdown",
      "metadata": {
        "id": "s8JMnE4Q_NvM",
        "colab_type": "text"
      },
      "source": [
        "\n",
        "Question 3\n",
        "Level 1\n",
        "\n",
        "Question:\n",
        "With a given integral number n, write a program to generate a dictionary that contains (i, i*i) such that is an integral number between 1 and n (both included). and then the program should print the dictionary.\n",
        "Suppose the following input is supplied to the program:\n",
        "8\n",
        "Then, the output should be:\n",
        "{1: 1, 2: 4, 3: 9, 4: 16, 5: 25, 6: 36, 7: 49, 8: 64}\n",
        "\n",
        "Hints:\n",
        "In case of input data being supplied to the question, it should be assumed to be a console input.\n",
        "Consider use dict()\n",
        "\n"
      ]
    },
    {
      "cell_type": "code",
      "metadata": {
        "id": "kTpTxdRQ_NvN",
        "colab_type": "code",
        "colab": {
          "base_uri": "https://localhost:8080/",
          "height": 34
        },
        "outputId": "86f00759-9c5f-4354-ca04-05037302073d"
      },
      "source": [
        "dictionary = {}\n",
        "INPUT = 8\n",
        "\n",
        "for x in range(1,INPUT + 1):\n",
        "  dictionary[x] = x**2\n",
        "\n",
        "print(dictionary)"
      ],
      "execution_count": 17,
      "outputs": [
        {
          "output_type": "stream",
          "text": [
            "{1: 1, 2: 4, 3: 9, 4: 16, 5: 25, 6: 36, 7: 49, 8: 64}\n"
          ],
          "name": "stdout"
        }
      ]
    },
    {
      "cell_type": "markdown",
      "metadata": {
        "id": "Ej7f27Zu_NvO",
        "colab_type": "text"
      },
      "source": [
        "\n",
        "Question 4\n",
        "Level 1\n",
        "\n",
        "Question:\n",
        "Write a program which accepts a sequence of comma-separated numbers from console and generate a list and a tuple which contains every number.\n",
        "Suppose the following input is supplied to the program:\n",
        "34,67,55,33,12,98\n",
        "Then, the output should be:\n",
        "['34', '67', '55', '33', '12', '98']\n",
        "('34', '67', '55', '33', '12', '98')\n",
        "\n",
        "Hints:\n",
        "In case of input data being supplied to the question, it should be assumed to be a console input.\n",
        "tuple() method can convert list to tuple\n",
        "\n"
      ]
    },
    {
      "cell_type": "code",
      "metadata": {
        "id": "3D23M2r5_NvP",
        "colab_type": "code",
        "colab": {
          "base_uri": "https://localhost:8080/",
          "height": 34
        },
        "outputId": "4b2dc3da-9469-4eea-8283-d1a6270fecd0"
      },
      "source": [
        "INPUT = \"34,67,55,33,12,98\"\n",
        "NUMBERS = INPUT.split(\",\")\n",
        "\n",
        "LIST = list(NUMBERS)\n",
        "TUPLE = tuple(NUMBERS)\n",
        "print(LIST,TUPLE)"
      ],
      "execution_count": 32,
      "outputs": [
        {
          "output_type": "stream",
          "text": [
            "['34', '67', '55', '33', '12', '98'] ('34', '67', '55', '33', '12', '98')\n"
          ],
          "name": "stdout"
        }
      ]
    },
    {
      "cell_type": "markdown",
      "metadata": {
        "id": "5y-mynTB_NvR",
        "colab_type": "text"
      },
      "source": [
        "\n",
        "Question 5\n",
        "Level 1\n",
        "\n",
        "Question:\n",
        "Define a class which has at least two methods:\n",
        "getString: to get a string from console input\n",
        "printString: to print the string in upper case.\n",
        "Also please include simple test function to test the class methods.\n",
        "\n",
        "Hints:\n",
        "Use __init__ method to construct some parameters\n",
        "\n"
      ]
    },
    {
      "cell_type": "code",
      "metadata": {
        "id": "QszsHVz-_NvR",
        "colab_type": "code",
        "colab": {}
      },
      "source": [
        "class Five:\n",
        "  def getString(string):\n",
        "    string = input()\n",
        "    print(string)"
      ],
      "execution_count": 0,
      "outputs": []
    },
    {
      "cell_type": "markdown",
      "metadata": {
        "id": "nZ-f76hM_NvT",
        "colab_type": "text"
      },
      "source": [
        "\n",
        "Question 6\n",
        "Level 2\n",
        "\n",
        "Question:\n",
        "Write a program that calculates and prints the value according to the given formula:\n",
        "Q = Square root of [(2 * C * D)/H]\n",
        "Following are the fixed values of C and H:\n",
        "C is 50. H is 30.\n",
        "D is the variable whose values should be input to your program in a comma-separated sequence.\n",
        "Example\n",
        "Let us assume the following comma separated input sequence is given to the program:\n",
        "100,150,180\n",
        "The output of the program should be:\n",
        "18,22,24\n",
        "\n",
        "Hints:\n",
        "If the output received is in decimal form, it should be rounded off to its nearest value (for example, if the output received is 26.0, it should be printed as 26)\n",
        "In case of input data being supplied to the question, it should be assumed to be a console input. \n",
        "\n"
      ]
    },
    {
      "cell_type": "code",
      "metadata": {
        "id": "tKQT_Guf_NvT",
        "colab_type": "code",
        "colab": {
          "base_uri": "https://localhost:8080/",
          "height": 68
        },
        "outputId": "49a8b54b-72d5-47fa-add1-3717bdaa7636"
      },
      "source": [
        "import math\n",
        "C = 50\n",
        "H = 30\n",
        "D_INPUTS = \"100,150,180\"\n",
        "\n",
        "D_ARRAY = D_INPUTS.split(\",\")\n",
        "\n",
        "for d in D_ARRAY:\n",
        "  D = int(d)\n",
        "  Q = int(math.sqrt((2*C*D)/H))\n",
        "  print(Q);"
      ],
      "execution_count": 66,
      "outputs": [
        {
          "output_type": "stream",
          "text": [
            "18\n",
            "22\n",
            "24\n"
          ],
          "name": "stdout"
        }
      ]
    },
    {
      "cell_type": "markdown",
      "metadata": {
        "id": "LrWuElKA_NvV",
        "colab_type": "text"
      },
      "source": [
        "\n",
        "Question 7\n",
        "Level 2\n",
        "\n",
        "Question:\n",
        "Write a program which takes 2 digits, X,Y as input and generates a 2-dimensional array. The element value in the i-th row and j-th column of the array should be i*j.\n",
        "Note: i=0,1.., X-1; j=0,1,¡­Y-1.\n",
        "Example\n",
        "Suppose the following inputs are given to the program:\n",
        "3,5\n",
        "Then, the output of the program should be:\n",
        "[[0, 0, 0, 0, 0], [0, 1, 2, 3, 4], [0, 2, 4, 6, 8]] \n",
        "\n",
        "Hints:\n",
        "Note: In case of input data being supplied to the question, it should be assumed to be a console input in a comma-separated form.\n",
        "\n"
      ]
    },
    {
      "cell_type": "code",
      "metadata": {
        "id": "0D6ReSJj_NvW",
        "colab_type": "code",
        "colab": {
          "base_uri": "https://localhost:8080/",
          "height": 34
        },
        "outputId": "7f13eb2c-b948-4c42-c5b4-2dfec1b67cd9"
      },
      "source": [
        "X = 3\n",
        "Y = 5\n",
        "matrix = []\n",
        "\n",
        "for i in range(0, X):\n",
        "  row = []\n",
        "  for j in range(0, Y):\n",
        "    row.append(i*j)\n",
        "  matrix.append(row)\n",
        "\n",
        "print(matrix)"
      ],
      "execution_count": 68,
      "outputs": [
        {
          "output_type": "stream",
          "text": [
            "[[0, 0, 0, 0, 0], [0, 1, 2, 3, 4], [0, 2, 4, 6, 8]]\n"
          ],
          "name": "stdout"
        }
      ]
    },
    {
      "cell_type": "markdown",
      "metadata": {
        "id": "1w4yo9FL_NvX",
        "colab_type": "text"
      },
      "source": [
        "\n",
        "Question 8\n",
        "Level 2\n",
        "\n",
        "Question:\n",
        "Write a program that accepts a comma separated sequence of words as input and prints the words in a comma-separated sequence after sorting them alphabetically.\n",
        "Suppose the following input is supplied to the program:\n",
        "without,hello,bag,world\n",
        "Then, the output should be:\n",
        "bag,hello,without,world\n",
        "\n",
        "Hints:\n",
        "In case of input data being supplied to the question, it should be assumed to be a console input.\n",
        "\n"
      ]
    },
    {
      "cell_type": "code",
      "metadata": {
        "id": "i8FhssrU_NvY",
        "colab_type": "code",
        "colab": {
          "base_uri": "https://localhost:8080/",
          "height": 34
        },
        "outputId": "356dec79-f7ac-47e5-ef65-dcb5af13d1f6"
      },
      "source": [
        "INPUT = \"without,hello,bag,world\"\n",
        "print(sorted(INPUT.split(\",\")))"
      ],
      "execution_count": 82,
      "outputs": [
        {
          "output_type": "stream",
          "text": [
            "['bag', 'hello', 'without', 'world']\n"
          ],
          "name": "stdout"
        }
      ]
    },
    {
      "cell_type": "markdown",
      "metadata": {
        "id": "mRqs5Q_u_Nva",
        "colab_type": "text"
      },
      "source": [
        "\n",
        "Question 9\n",
        "Level 2\n",
        "\n",
        "Question:\n",
        "Write a program that accepts sequence of lines as input and prints the lines after making all characters in the sentence capitalized.\n",
        "Suppose the following input is supplied to the program:\n",
        "Hello world\n",
        "Practice makes perfect\n",
        "Then, the output should be:\n",
        "HELLO WORLD\n",
        "PRACTICE MAKES PERFECT\n",
        "\n",
        "Hints:\n",
        "In case of input data being supplied to the question, it should be assumed to be a console input.\n",
        "\n"
      ]
    },
    {
      "cell_type": "code",
      "metadata": {
        "id": "fC7itGPS_Nvb",
        "colab_type": "code",
        "colab": {
          "base_uri": "https://localhost:8080/",
          "height": 34
        },
        "outputId": "9040abd1-7adb-49a3-fcfe-3c3bd5e208ac"
      },
      "source": [
        "INPUT = \"Hello world Practice makes perfect\"\n",
        "print(INPUT.upper())"
      ],
      "execution_count": 81,
      "outputs": [
        {
          "output_type": "stream",
          "text": [
            "HELLO WORLD PRACTICE MAKES PERFECT\n"
          ],
          "name": "stdout"
        }
      ]
    },
    {
      "cell_type": "markdown",
      "metadata": {
        "id": "Iz5LzXk9_Nvd",
        "colab_type": "text"
      },
      "source": [
        "\n",
        "Question 10\n",
        "Level 2\n",
        "\n",
        "Question:\n",
        "Write a program that accepts a sequence of whitespace separated words as input and prints the words after removing all duplicate words and sorting them alphanumerically.\n",
        "Suppose the following input is supplied to the program:\n",
        "hello world and practice makes perfect and hello world again\n",
        "Then, the output should be:\n",
        "again and hello makes perfect practice world\n",
        "\n",
        "Hints:\n",
        "In case of input data being supplied to the question, it should be assumed to be a console input.\n",
        "We use set container to remove duplicated data automatically and then use sorted() to sort the data.\n",
        "\n"
      ]
    },
    {
      "cell_type": "code",
      "metadata": {
        "id": "-GVVeNhb_Nve",
        "colab_type": "code",
        "colab": {
          "base_uri": "https://localhost:8080/",
          "height": 34
        },
        "outputId": "b9f83676-07bd-425f-faa6-53055f6ed6f0"
      },
      "source": [
        "INPUT = \"hello world and practice makes perfect and hello world again\"\n",
        "print(sorted(set(INPUT.split(\" \"))))"
      ],
      "execution_count": 85,
      "outputs": [
        {
          "output_type": "stream",
          "text": [
            "['again', 'and', 'hello', 'makes', 'perfect', 'practice', 'world']\n"
          ],
          "name": "stdout"
        }
      ]
    },
    {
      "cell_type": "markdown",
      "metadata": {
        "id": "45KbbMNX_Nvf",
        "colab_type": "text"
      },
      "source": [
        "\n",
        "Question 11\n",
        "Level 2\n",
        "\n",
        "Question:\n",
        "Write a program which accepts a sequence of comma separated 4 digit binary numbers as its input and then check whether they are divisible by 5 or not. The numbers that are divisible by 5 are to be printed in a comma separated sequence.\n",
        "Example:\n",
        "0100,0011,1010,1001\n",
        "Then the output should be:\n",
        "1010\n",
        "Notes: Assume the data is input by console.\n",
        "\n",
        "Hints:\n",
        "In case of input data being supplied to the question, it should be assumed to be a console input.\n",
        "\n"
      ]
    },
    {
      "cell_type": "code",
      "metadata": {
        "id": "r_afCt7D_Nvg",
        "colab_type": "code",
        "colab": {
          "base_uri": "https://localhost:8080/",
          "height": 34
        },
        "outputId": "5d72082a-ad4b-48eb-c929-3d4fd3cafb1e"
      },
      "source": [
        "INPUT = \"0100,0011,1010,1001\"\n",
        "parsed = INPUT.split(\",\")\n",
        "\n",
        "for bin_string in parsed:\n",
        "  if int(bin_string, 2) % 5 == 0:\n",
        "    print(bin_string)"
      ],
      "execution_count": 86,
      "outputs": [
        {
          "output_type": "stream",
          "text": [
            "1010\n"
          ],
          "name": "stdout"
        }
      ]
    },
    {
      "cell_type": "markdown",
      "metadata": {
        "id": "zMg0XCNX_Nvh",
        "colab_type": "text"
      },
      "source": [
        "\n",
        "Question 12\n",
        "Level 2\n",
        "\n",
        "Question:\n",
        "Write a program, which will find all such numbers between 1000 and 3000 (both included) such that each digit of the number is an even number.\n",
        "The numbers obtained should be printed in a comma-separated sequence on a single line.\n",
        "\n",
        "Hints:\n",
        "In case of input data being supplied to the question, it should be assumed to be a console input.\n",
        "\n"
      ]
    },
    {
      "cell_type": "code",
      "metadata": {
        "id": "nhSC8IRn_Nvi",
        "colab_type": "code",
        "colab": {}
      },
      "source": [
        "START = 1000 \n",
        "END   = 3000\n",
        "\n",
        "x = START\n",
        "while x <= END:\n",
        "  temp = x\n",
        "  power = 0\n",
        "  allEven = True\n",
        "  while temp >= 1:\n",
        "    if int(temp) % 2 == 0:\n",
        "      temp = temp / 10\n",
        "      power = power + 1\n",
        "    else:\n",
        "      allEven = False\n",
        "      x = x + 10**power - x % 10**(power)\n",
        "      break\n",
        "  if allEven == True:\n",
        "    print(x)\n",
        "    x = x + 2\n"
      ],
      "execution_count": 0,
      "outputs": []
    },
    {
      "cell_type": "markdown",
      "metadata": {
        "id": "zKHcO5ud_Nvj",
        "colab_type": "text"
      },
      "source": [
        "\n",
        "Question 13\n",
        "Level 2\n",
        "\n",
        "Question:\n",
        "Write a program that accepts a sentence and calculate the number of letters and digits.\n",
        "Suppose the following input is supplied to the program:\n",
        "hello world! 123\n",
        "Then, the output should be:\n",
        "LETTERS 10\n",
        "DIGITS 3\n",
        "\n",
        "Hints:\n",
        "In case of input data being supplied to the question, it should be assumed to be a console input.\n",
        "\n"
      ]
    },
    {
      "cell_type": "code",
      "metadata": {
        "id": "0S3Lhvpv_Nvk",
        "colab_type": "code",
        "colab": {
          "base_uri": "https://localhost:8080/",
          "height": 34
        },
        "outputId": "c1e66856-1552-4320-cd34-1c1470cfbe81"
      },
      "source": [
        "import re\n",
        "\n",
        "INPUT =  \"hello world! 123\"\n",
        "\n",
        "print(\"LETTERS\", len(re.findall(\"[a-zA-Z]\", INPUT)), \"DIGITS\", len(re.findall(\"\\d\", INPUT)))"
      ],
      "execution_count": 32,
      "outputs": [
        {
          "output_type": "stream",
          "text": [
            "LETTERS 10 DIGITS 3\n"
          ],
          "name": "stdout"
        }
      ]
    },
    {
      "cell_type": "markdown",
      "metadata": {
        "id": "0HDADA0L_Nvl",
        "colab_type": "text"
      },
      "source": [
        "\n",
        "Question 14\n",
        "Level 2\n",
        "\n",
        "Question:\n",
        "Write a program that accepts a sentence and calculate the number of upper case letters and lower case letters.\n",
        "Suppose the following input is supplied to the program:\n",
        "Hello world!\n",
        "Then, the output should be:\n",
        "UPPER CASE 1\n",
        "LOWER CASE 9\n",
        "\n",
        "Hints:\n",
        "In case of input data being supplied to the question, it should be assumed to be a console input.\n",
        "\n"
      ]
    },
    {
      "cell_type": "code",
      "metadata": {
        "id": "tvPMz_b4_Nvm",
        "colab_type": "code",
        "colab": {
          "base_uri": "https://localhost:8080/",
          "height": 34
        },
        "outputId": "f964280e-4405-4e88-c925-f0abb21eb9d6"
      },
      "source": [
        "import re\n",
        "INPUT = \"Hello world!\"\n",
        "print(\"UPPER CASE\", len(re.findall(\"[A-Z]\", INPUT)), \"LOWER CASE\", len(re.findall(\"[a-z]\", INPUT)))"
      ],
      "execution_count": 37,
      "outputs": [
        {
          "output_type": "stream",
          "text": [
            "UPPER CASE 1 LOWER CASE 9\n"
          ],
          "name": "stdout"
        }
      ]
    },
    {
      "cell_type": "markdown",
      "metadata": {
        "id": "RyRBXwXR_Nvn",
        "colab_type": "text"
      },
      "source": [
        "\n",
        "Question 15\n",
        "Level 2\n",
        "\n",
        "Question:\n",
        "Write a program that computes the value of a+aa+aaa+aaaa with a given digit as the value of a.\n",
        "Suppose the following input is supplied to the program:\n",
        "9\n",
        "Then, the output should be:\n",
        "11106\n",
        "\n",
        "Hints:\n",
        "In case of input data being supplied to the question, it should be assumed to be a console input.\n",
        "\n"
      ]
    },
    {
      "cell_type": "code",
      "metadata": {
        "id": "3o6LBgrE_Nvp",
        "colab_type": "code",
        "colab": {
          "base_uri": "https://localhost:8080/",
          "height": 34
        },
        "outputId": "d25ac6fe-595b-4243-cf0b-f0c0dc36cde3"
      },
      "source": [
        "INPUT = 9\n",
        "if (INPUT < 10) & (INPUT >= 0):\n",
        "  print(INPUT*1234)\n",
        "else:\n",
        "  print(\"bad input\")"
      ],
      "execution_count": 5,
      "outputs": [
        {
          "output_type": "stream",
          "text": [
            "11106\n"
          ],
          "name": "stdout"
        }
      ]
    },
    {
      "cell_type": "markdown",
      "metadata": {
        "id": "cOOw4AgN_Nvr",
        "colab_type": "text"
      },
      "source": [
        "\n",
        "Question 16\n",
        "Level 2\n",
        "\n",
        "Question:\n",
        "Use a list comprehension to square each odd number in a list. The list is input by a sequence of comma-separated numbers.\n",
        "Suppose the following input is supplied to the program:\n",
        "1,2,3,4,5,6,7,8,9\n",
        "Then, the output should be:\n",
        "1,3,5,7,9\n",
        "\n",
        "Hints:\n",
        "In case of input data being supplied to the question, it should be assumed to be a console input.\n",
        "\n"
      ]
    },
    {
      "cell_type": "code",
      "metadata": {
        "id": "hxMmSq8Y_Nvs",
        "colab_type": "code",
        "colab": {
          "base_uri": "https://localhost:8080/",
          "height": 102
        },
        "outputId": "fd6d37f6-d962-478a-c7a6-89e3e5e6b9b6"
      },
      "source": [
        "INPUT = \"1,2,3,4,5,6,7,8,9\"\n",
        "LIST = INPUT.split(\",\");\n",
        "\n",
        "for x in LIST:\n",
        "  if int(x) % 2 != 0:\n",
        "    print(x)"
      ],
      "execution_count": 10,
      "outputs": [
        {
          "output_type": "stream",
          "text": [
            "1\n",
            "3\n",
            "5\n",
            "7\n",
            "9\n"
          ],
          "name": "stdout"
        }
      ]
    },
    {
      "cell_type": "markdown",
      "metadata": {
        "id": "dNJYPKf8_Nvu",
        "colab_type": "text"
      },
      "source": [
        "\n",
        "Question 17\n",
        "Level 2\n",
        "\n",
        "Question:\n",
        "Write a program that computes the net amount of a bank account based a transaction log from console input. The transaction log format is shown as following:\n",
        "D 100\n",
        "W 200\n",
        "¡­\n",
        "D means deposit while W means withdrawal.\n",
        "Suppose the following input is supplied to the program:\n",
        "D 300\n",
        "D 300\n",
        "W 200\n",
        "D 100\n",
        "Then, the output should be:\n",
        "500\n",
        "\n",
        "Hints:\n",
        "In case of input data being supplied to the question, it should be assumed to be a console input.\n",
        "\n"
      ]
    },
    {
      "cell_type": "code",
      "metadata": {
        "id": "pxda_EO0_Nvu",
        "colab_type": "code",
        "colab": {
          "base_uri": "https://localhost:8080/",
          "height": 34
        },
        "outputId": "c8e2d092-3832-4eeb-cf59-be212ec0d91a"
      },
      "source": [
        "INPUT = \"D 300 D 300 W 200 D 100\"\n",
        "total = 0\n",
        "\n",
        "LIST = INPUT.split(\" \")\n",
        "MULT = 1\n",
        "\n",
        "for x in LIST:\n",
        "  if x == 'D':\n",
        "    MULT = 1\n",
        "  elif x == 'W':\n",
        "      MULT = -1\n",
        "  else:\n",
        "    total += MULT*int(x)\n",
        "\n",
        "print(total)"
      ],
      "execution_count": 21,
      "outputs": [
        {
          "output_type": "stream",
          "text": [
            "500\n"
          ],
          "name": "stdout"
        }
      ]
    },
    {
      "cell_type": "markdown",
      "metadata": {
        "id": "PiIyojnw_Nvw",
        "colab_type": "text"
      },
      "source": [
        "\n",
        "Question 18\n",
        "Level 3\n",
        "\n",
        "Question:\n",
        "A website requires the users to input username and password to register. Write a program to check the validity of password input by users.\n",
        "Following are the criteria for checking the password:\n",
        "1. At least 1 letter between [a-z]\n",
        "2. At least 1 number between [0-9]\n",
        "1. At least 1 letter between [A-Z]\n",
        "3. At least 1 character from [$#@]\n",
        "4. Minimum length of transaction password: 6\n",
        "5. Maximum length of transaction password: 12\n",
        "Your program should accept a sequence of comma separated passwords and will check them according to the above criteria. Passwords that match the criteria are to be printed, each separated by a comma.\n",
        "Example\n",
        "If the following passwords are given as input to the program:\n",
        "ABd1234@1,a F1#,2w3E*,2We3345\n",
        "Then, the output of the program should be:\n",
        "ABd1234@1\n",
        "\n",
        "Hints:\n",
        "In case of input data being supplied to the question, it should be assumed to be a console input.\n",
        "\n"
      ]
    },
    {
      "cell_type": "code",
      "metadata": {
        "id": "InervTex_Nvx",
        "colab_type": "code",
        "colab": {
          "base_uri": "https://localhost:8080/",
          "height": 34
        },
        "outputId": "38138e4f-4275-48aa-f1f8-e989703c3962"
      },
      "source": [
        "import re\n",
        "\n",
        "INPUT = \"ABd1234@1,a F1#,2w3E*,2We3345\"\n",
        "\n",
        "passwords = INPUT.split(\",\")\n",
        "\n",
        "for password in passwords:\n",
        "  if re.match(\"^(?=.*[a-z])(?=.*[A-Z])(?=.*[0-9])(?=.*[$#@])[A-Za-z\\d@$!%*?&]{6,12}$\", password):\n",
        "    print(password)"
      ],
      "execution_count": 5,
      "outputs": [
        {
          "output_type": "stream",
          "text": [
            "ABd1234@1\n"
          ],
          "name": "stdout"
        }
      ]
    },
    {
      "cell_type": "markdown",
      "metadata": {
        "id": "SpL8jlff_Nv0",
        "colab_type": "text"
      },
      "source": [
        "\n",
        "Question 19\n",
        "Level 3\n",
        "\n",
        "Question:\n",
        "You are required to write a program to sort the (name, age, height) tuples by ascending order where name is string, age and height are numbers. The tuples are input by console. The sort criteria is:\n",
        "1: Sort based on name;\n",
        "2: Then sort based on age;\n",
        "3: Then sort by score.\n",
        "The priority is that name > age > score.\n",
        "If the following tuples are given as input to the program:\n",
        "Tom,19,80\n",
        "John,20,90\n",
        "Jony,17,91\n",
        "Jony,17,93\n",
        "Json,21,85\n",
        "Then, the output of the program should be:\n",
        "[('John', '20', '90'), ('Jony', '17', '91'), ('Jony', '17', '93'), ('Json', '21', '85'), ('Tom', '19', '80')]\n",
        "\n",
        "Hints:\n",
        "In case of input data being supplied to the question, it should be assumed to be a console input.\n",
        "We use itemgetter to enable multiple sort keys.\n",
        "\n"
      ]
    },
    {
      "cell_type": "code",
      "metadata": {
        "id": "Im4pFpRP_Nv1",
        "colab_type": "code",
        "colab": {
          "base_uri": "https://localhost:8080/",
          "height": 34
        },
        "outputId": "884b6515-90c7-45eb-835d-8bbe6a5a36a6"
      },
      "source": [
        "INPUT = \"Tom,19,80 John,20,90 Jony,17,91 Jony,17,93 Json,21,85\"\n",
        "sortedList = []\n",
        "for dude in INPUT.split(\" \"):\n",
        "  sortedList.append(tuple(dude.split(\",\")))\n",
        "\n",
        "print(sorted(sortedList))"
      ],
      "execution_count": 46,
      "outputs": [
        {
          "output_type": "stream",
          "text": [
            "[('John', '20', '90'), ('Jony', '17', '91'), ('Jony', '17', '93'), ('Json', '21', '85'), ('Tom', '19', '80')]\n"
          ],
          "name": "stdout"
        }
      ]
    },
    {
      "cell_type": "markdown",
      "metadata": {
        "id": "z1AS8qqQ_Nv2",
        "colab_type": "text"
      },
      "source": [
        "\n",
        "Question 20\n",
        "Level 3\n",
        "\n",
        "Question:\n",
        "Define a class with a generator which can iterate the numbers, which are divisible by 7, between a given range 0 and n.\n",
        "\n",
        "Hints:\n",
        "Consider use yield\n",
        "\n"
      ]
    },
    {
      "cell_type": "code",
      "metadata": {
        "id": "PybNSaQo_Nv3",
        "colab_type": "code",
        "colab": {
          "base_uri": "https://localhost:8080/",
          "height": 68
        },
        "outputId": "4958a5b7-efba-448c-d307-b3a7156bac46"
      },
      "source": [
        "class Generator:\n",
        "  def __init__(self, n):\n",
        "    self.n = n\n",
        "  \n",
        "  def __iter__(self):\n",
        "    for x in range(0, self.n, 7):\n",
        "      yield x\n",
        "\n",
        "gen = Generator(20)\n",
        "geniter = iter(gen)\n",
        "\n",
        "print(next(geniter))\n",
        "print(next(geniter))\n",
        "print(next(geniter))"
      ],
      "execution_count": 58,
      "outputs": [
        {
          "output_type": "stream",
          "text": [
            "0\n",
            "7\n",
            "14\n"
          ],
          "name": "stdout"
        }
      ]
    },
    {
      "cell_type": "markdown",
      "metadata": {
        "id": "hn4JW07r_Nv4",
        "colab_type": "text"
      },
      "source": [
        "\n",
        "Question 21\n",
        "Level 3\n",
        "\n",
        "Question:\n",
        "A robot moves in a plane starting from the original point (0,0). The robot can move toward UP, DOWN, LEFT and RIGHT with a given steps. The trace of robot movement is shown as the following:\n",
        "UP 5\n",
        "DOWN 3\n",
        "LEFT 3\n",
        "RIGHT 2\n",
        "¡­\n",
        "The numbers after the direction are steps. Please write a program to compute the distance from current position after a sequence of movement and original point. If the distance is a float, then just print the nearest integer.\n",
        "Example:\n",
        "If the following tuples are given as input to the program:\n",
        "UP 5\n",
        "DOWN 3\n",
        "LEFT 3\n",
        "RIGHT 2\n",
        "Then, the output of the program should be:\n",
        "2\n",
        "\n",
        "Hints:\n",
        "In case of input data being supplied to the question, it should be assumed to be a console input.\n",
        "\n"
      ]
    },
    {
      "cell_type": "code",
      "metadata": {
        "id": "jIn2yaa8_Nv4",
        "colab_type": "code",
        "colab": {
          "base_uri": "https://localhost:8080/",
          "height": 34
        },
        "outputId": "d45ece8c-ae91-4943-ded5-b9d4bdf0bfd6"
      },
      "source": [
        "import re\n",
        "import math\n",
        "\n",
        "INPUT = \"UP 5 DOWN 3 LEFT 3 RIGHT 2\"\n",
        "\n",
        "VERTICAL = 0\n",
        "HORIZONTAL = 0\n",
        "\n",
        "moves = re.findall(\"[\\w]+\\s\\d\", INPUT)\n",
        "\n",
        "for move in moves:\n",
        "  parsedMove = move.split(\" \")\n",
        "  if parsedMove[0] == \"UP\":\n",
        "    VERTICAL = VERTICAL + int(parsedMove[1])\n",
        "  elif parsedMove[0] == \"DOWN\":\n",
        "    VERTICAL = VERTICAL - int(parsedMove[1])\n",
        "  elif parsedMove[0] == \"RIGHT\":\n",
        "    HORIZONTAL = HORIZONTAL + int(parsedMove[1])\n",
        "  elif parsedMove[0] == \"LEFT\":\n",
        "    HORIZONTAL = HORIZONTAL - int(parsedMove[1])\n",
        "\n",
        "print(int(math.sqrt(VERTICAL**2 + HORIZONTAL**2)))"
      ],
      "execution_count": 27,
      "outputs": [
        {
          "output_type": "stream",
          "text": [
            "2\n"
          ],
          "name": "stdout"
        }
      ]
    },
    {
      "cell_type": "markdown",
      "metadata": {
        "id": "lA-fXo2o_Nv6",
        "colab_type": "text"
      },
      "source": [
        "\n",
        "Question 22\n",
        "Level 3\n",
        "\n",
        "Question:\n",
        "Write a program to compute the frequency of the words from the input. The output should output after sorting the key alphanumerically. \n",
        "Suppose the following input is supplied to the program:\n",
        "New to Python or choosing between Python 2 and Python 3? Read Python 2 or Python 3.\n",
        "Then, the output should be:\n",
        "2:2\n",
        "3.:1\n",
        "3?:1\n",
        "New:1\n",
        "Python:5\n",
        "Read:1\n",
        "and:1\n",
        "between:1\n",
        "choosing:1\n",
        "or:2\n",
        "to:1\n",
        "\n",
        "Hints\n",
        "In case of input data being supplied to the question, it should be assumed to be a console input.\n",
        "\n"
      ]
    },
    {
      "cell_type": "code",
      "metadata": {
        "id": "4tAu3F_2_Nv6",
        "colab_type": "code",
        "colab": {
          "base_uri": "https://localhost:8080/",
          "height": 34
        },
        "outputId": "aa8d18b9-ea81-40e7-9853-fd3723c35c69"
      },
      "source": [
        "INPUT = \"New to Python or choosing between Python 2 and Python 3? Read Python 2 or Python 3.\"\n",
        "\n",
        "words = sorted(INPUT.split(\" \"))\n",
        "\n",
        "print({i:words.count(i) for i in words})"
      ],
      "execution_count": 50,
      "outputs": [
        {
          "output_type": "stream",
          "text": [
            "{'2': 2, '3.': 1, '3?': 1, 'New': 1, 'Python': 5, 'Read': 1, 'and': 1, 'between': 1, 'choosing': 1, 'or': 2, 'to': 1}\n"
          ],
          "name": "stdout"
        }
      ]
    },
    {
      "cell_type": "markdown",
      "metadata": {
        "id": "DnCCMdgW_Nv8",
        "colab_type": "text"
      },
      "source": [
        "\n",
        "Question 23\n",
        "level 1\n",
        "\n",
        "Question:\n",
        "    Write a method which can calculate square value of number\n",
        "\n",
        "Hints:\n",
        "    Using the ** operator\n",
        "\n"
      ]
    },
    {
      "cell_type": "code",
      "metadata": {
        "id": "wzVAj-sp_Nv8",
        "colab_type": "code",
        "colab": {
          "base_uri": "https://localhost:8080/",
          "height": 34
        },
        "outputId": "37a16308-c570-438b-82de-bbb244db29ed"
      },
      "source": [
        "def baribua(x):\n",
        "  return x**2\n",
        "\n",
        "print(baribua(3))"
      ],
      "execution_count": 7,
      "outputs": [
        {
          "output_type": "stream",
          "text": [
            "9\n"
          ],
          "name": "stdout"
        }
      ]
    },
    {
      "cell_type": "markdown",
      "metadata": {
        "id": "PefRKJog_Nv-",
        "colab_type": "text"
      },
      "source": [
        "\n",
        "\n",
        "\n",
        "\n",
        "Question 24\n",
        "Level 1\n",
        "\n",
        "Question:\n",
        "    Python has many built-in functions, and if you do not know how to use it, you can read document online or find some books. But Python has a built-in document function for every built-in functions.\n",
        "    Please write a program to print some Python built-in functions documents, such as abs(), int(), raw_input()\n",
        "    And add document for your own function\n",
        "    \n",
        "\n",
        "Hints:\n",
        "    The built-in document method is __doc__\n",
        "\n"
      ]
    },
    {
      "cell_type": "code",
      "metadata": {
        "id": "1j3zhI_d_Nv_",
        "colab_type": "code",
        "colab": {
          "base_uri": "https://localhost:8080/",
          "height": 163
        },
        "outputId": "7a720c2a-4c74-4b5d-bc18-9fabb4d7e71e"
      },
      "source": [
        ""
      ],
      "execution_count": 10,
      "outputs": [
        {
          "output_type": "error",
          "ename": "AttributeError",
          "evalue": "ignored",
          "traceback": [
            "\u001b[0;31m---------------------------------------------------------------------------\u001b[0m",
            "\u001b[0;31mAttributeError\u001b[0m                            Traceback (most recent call last)",
            "\u001b[0;32m<ipython-input-10-c68dc74e2c50>\u001b[0m in \u001b[0;36m<module>\u001b[0;34m()\u001b[0m\n\u001b[0;32m----> 1\u001b[0;31m \u001b[0mint\u001b[0m\u001b[0;34m(\u001b[0m\u001b[0;34m)\u001b[0m\u001b[0;34m.\u001b[0m\u001b[0mdoc\u001b[0m\u001b[0;34m\u001b[0m\u001b[0;34m\u001b[0m\u001b[0m\n\u001b[0m",
            "\u001b[0;31mAttributeError\u001b[0m: 'int' object has no attribute 'doc'"
          ]
        }
      ]
    },
    {
      "cell_type": "markdown",
      "metadata": {
        "id": "lr1XDSFb_NwA",
        "colab_type": "text"
      },
      "source": [
        "\n",
        "Question 25\n",
        "Level 1\n",
        "\n",
        "Question:\n",
        "    Define a class, which have a class parameter and have a same instance parameter.\n",
        "\n",
        "Hints:\n",
        "    Define a instance parameter, need add it in __init__ method\n",
        "    You can init a object with construct parameter or set the value later\n",
        "\n"
      ]
    },
    {
      "cell_type": "code",
      "metadata": {
        "id": "nI-bYDqU_NwB",
        "colab_type": "code",
        "colab": {
          "base_uri": "https://localhost:8080/",
          "height": 34
        },
        "outputId": "84f45573-4670-4370-c73b-181bc5c8868f"
      },
      "source": [
        "class TwentyFive:\n",
        "  def __init__(self, param):\n",
        "    self.param = param\n",
        "\n",
        "p1 = TwentyFive(20)\n",
        "print(p1.param)"
      ],
      "execution_count": 14,
      "outputs": [
        {
          "output_type": "stream",
          "text": [
            "20\n"
          ],
          "name": "stdout"
        }
      ]
    },
    {
      "cell_type": "markdown",
      "metadata": {
        "id": "MXzUBHKL_NwX",
        "colab_type": "text"
      },
      "source": [
        "\n",
        "Question:\n",
        "Define a function which can compute the sum of two numbers.\n",
        "\n",
        "Hints:\n",
        "Define a function with two numbers as arguments. You can compute the sum in the function and return the value.\n",
        "\n"
      ]
    },
    {
      "cell_type": "code",
      "metadata": {
        "id": "1YhaVrFG_NwY",
        "colab_type": "code",
        "colab": {}
      },
      "source": [
        ""
      ],
      "execution_count": 0,
      "outputs": []
    },
    {
      "cell_type": "markdown",
      "metadata": {
        "id": "UaF7RmMT_Nwb",
        "colab_type": "text"
      },
      "source": [
        "\n",
        "Question:\n",
        "Define a function that can convert a integer into a string and print it in console.\n",
        "\n",
        "Hints:\n",
        "Use str() to convert a number to string.\n",
        "\n"
      ]
    },
    {
      "cell_type": "code",
      "metadata": {
        "id": "epzMFOY8_Nwb",
        "colab_type": "code",
        "colab": {}
      },
      "source": [
        ""
      ],
      "execution_count": 0,
      "outputs": []
    },
    {
      "cell_type": "markdown",
      "metadata": {
        "id": "t1zEhVUT_Nwe",
        "colab_type": "text"
      },
      "source": [
        "\n",
        "Question:\n",
        "Define a function that can convert a integer into a string and print it in console.\n",
        "\n",
        "Hints:\n",
        "Use str() to convert a number to string.\n",
        "\n"
      ]
    },
    {
      "cell_type": "code",
      "metadata": {
        "id": "2UnfIcpU_Nwe",
        "colab_type": "code",
        "colab": {}
      },
      "source": [
        ""
      ],
      "execution_count": 0,
      "outputs": []
    },
    {
      "cell_type": "markdown",
      "metadata": {
        "id": "7oFt-Uua_Nwg",
        "colab_type": "text"
      },
      "source": [
        "\n",
        "\n",
        "Question:\n",
        "Define a function that can receive two integral numbers in string form and compute their sum and then print it in console.\n",
        "\n",
        "Hints:\n",
        "Use int() to convert a string to integer.\n",
        "\n"
      ]
    },
    {
      "cell_type": "code",
      "metadata": {
        "id": "_wqETPyE_Nwh",
        "colab_type": "code",
        "colab": {}
      },
      "source": [
        ""
      ],
      "execution_count": 0,
      "outputs": []
    },
    {
      "cell_type": "markdown",
      "metadata": {
        "id": "tyW4xz7w_Nwi",
        "colab_type": "text"
      },
      "source": [
        "\n",
        "Question:\n",
        "Define a function that can accept two strings as input and concatenate them and then print it in console.\n",
        "\n",
        "Hints:\n",
        "Use + to concatenate the strings\n",
        "\n"
      ]
    },
    {
      "cell_type": "code",
      "metadata": {
        "id": "8EtMwXPM_Nwi",
        "colab_type": "code",
        "colab": {}
      },
      "source": [
        ""
      ],
      "execution_count": 0,
      "outputs": []
    },
    {
      "cell_type": "markdown",
      "metadata": {
        "id": "VoHSywJN_Nwk",
        "colab_type": "text"
      },
      "source": [
        "\n",
        "Question:\n",
        "Define a function that can accept two strings as input and print the string with maximum length in console. If two strings have the same length, then the function should print all strings line by line.\n",
        "\n",
        "Hints:\n",
        "Use len() function to get the length of a string\n",
        "\n"
      ]
    },
    {
      "cell_type": "code",
      "metadata": {
        "id": "pmN7GtYO_Nwk",
        "colab_type": "code",
        "colab": {}
      },
      "source": [
        ""
      ],
      "execution_count": 0,
      "outputs": []
    },
    {
      "cell_type": "markdown",
      "metadata": {
        "id": "VKTaMlBL_Nwm",
        "colab_type": "text"
      },
      "source": [
        "\n",
        "Question:\n",
        "Define a function that can accept an integer number as input and print the 'It is an even number' if the number is even, otherwise print 'It is an odd number'.\n",
        "\n",
        "Hints:\n",
        "Use % operator to check if a number is even or odd.\n",
        "\n"
      ]
    },
    {
      "cell_type": "code",
      "metadata": {
        "id": "mwtnH7aT_Nwm",
        "colab_type": "code",
        "colab": {}
      },
      "source": [
        ""
      ],
      "execution_count": 0,
      "outputs": []
    },
    {
      "cell_type": "markdown",
      "metadata": {
        "id": "fLokpaFM_Nwo",
        "colab_type": "text"
      },
      "source": [
        "\n",
        "Question:\n",
        "Define a function which can print a dictionary where the keys are numbers between 1 and 3 (both included) and the values are square of keys.\n",
        "\n",
        "Hints:\n",
        "Use dict[key]=value pattern to put entry into a dictionary.\n",
        "Use ** operator to get power of a number.\n",
        "\n"
      ]
    },
    {
      "cell_type": "code",
      "metadata": {
        "id": "yVanwY9j_Nwp",
        "colab_type": "code",
        "colab": {}
      },
      "source": [
        ""
      ],
      "execution_count": 0,
      "outputs": []
    },
    {
      "cell_type": "markdown",
      "metadata": {
        "id": "UyBaD9Ki_Nwq",
        "colab_type": "text"
      },
      "source": [
        "\n",
        "Question:\n",
        "Define a function which can print a dictionary where the keys are numbers between 1 and 20 (both included) and the values are square of keys.\n",
        "\n",
        "Hints:\n",
        "Use dict[key]=value pattern to put entry into a dictionary.\n",
        "Use ** operator to get power of a number.\n",
        "Use range() for loops.\n",
        "\n"
      ]
    },
    {
      "cell_type": "code",
      "metadata": {
        "id": "_IJ2YTOh_Nwr",
        "colab_type": "code",
        "colab": {}
      },
      "source": [
        ""
      ],
      "execution_count": 0,
      "outputs": []
    },
    {
      "cell_type": "markdown",
      "metadata": {
        "id": "d3mFltZa_Nwt",
        "colab_type": "text"
      },
      "source": [
        "\n",
        "Question:\n",
        "Define a function which can generate a dictionary where the keys are numbers between 1 and 20 (both included) and the values are square of keys. The function should just print the values only.\n",
        "\n",
        "Hints:\n",
        "Use dict[key]=value pattern to put entry into a dictionary.\n",
        "Use ** operator to get power of a number.\n",
        "Use range() for loops.\n",
        "Use keys() to iterate keys in the dictionary. Also we can use item() to get key/value pairs.\n",
        "\n"
      ]
    },
    {
      "cell_type": "code",
      "metadata": {
        "id": "cFU8TVZR_Nwu",
        "colab_type": "code",
        "colab": {}
      },
      "source": [
        ""
      ],
      "execution_count": 0,
      "outputs": []
    },
    {
      "cell_type": "markdown",
      "metadata": {
        "id": "6tOA8bm2_Nwv",
        "colab_type": "text"
      },
      "source": [
        "\n",
        "Question:\n",
        "Define a function which can generate a dictionary where the keys are numbers between 1 and 20 (both included) and the values are square of keys. The function should just print the keys only.\n",
        "\n",
        "Hints:\n",
        "Use dict[key]=value pattern to put entry into a dictionary.\n",
        "Use ** operator to get power of a number.\n",
        "Use range() for loops.\n",
        "Use keys() to iterate keys in the dictionary. Also we can use item() to get key/value pairs.\n",
        "\n"
      ]
    },
    {
      "cell_type": "code",
      "metadata": {
        "id": "g0z1RrJO_Nww",
        "colab_type": "code",
        "colab": {}
      },
      "source": [
        ""
      ],
      "execution_count": 0,
      "outputs": []
    },
    {
      "cell_type": "markdown",
      "metadata": {
        "id": "dqDNHWch_Nwx",
        "colab_type": "text"
      },
      "source": [
        "\n",
        "Question:\n",
        "Define a function which can generate and print a list where the values are square of numbers between 1 and 20 (both included).\n",
        "\n",
        "Hints:\n",
        "Use ** operator to get power of a number.\n",
        "Use range() for loops.\n",
        "Use list.append() to add values into a list.\n",
        "\n"
      ]
    },
    {
      "cell_type": "code",
      "metadata": {
        "id": "mBmwFVcO_Nwx",
        "colab_type": "code",
        "colab": {}
      },
      "source": [
        ""
      ],
      "execution_count": 0,
      "outputs": []
    },
    {
      "cell_type": "markdown",
      "metadata": {
        "id": "8gFdM5Rb_Nw2",
        "colab_type": "text"
      },
      "source": [
        "\n",
        "Question:\n",
        "Define a function which can generate a list where the values are square of numbers between 1 and 20 (both included). Then the function needs to print the first 5 elements in the list.\n",
        "\n",
        "Hints:\n",
        "Use ** operator to get power of a number.\n",
        "Use range() for loops.\n",
        "Use list.append() to add values into a list.\n",
        "Use [n1:n2] to slice a list\n",
        "\n"
      ]
    },
    {
      "cell_type": "code",
      "metadata": {
        "id": "W_I4Pz5A_Nw3",
        "colab_type": "code",
        "colab": {}
      },
      "source": [
        ""
      ],
      "execution_count": 0,
      "outputs": []
    },
    {
      "cell_type": "markdown",
      "metadata": {
        "id": "eNWYfxWG_Nw4",
        "colab_type": "text"
      },
      "source": [
        "\n",
        "Question:\n",
        "Define a function which can generate a list where the values are square of numbers between 1 and 20 (both included). Then the function needs to print the last 5 elements in the list.\n",
        "\n",
        "Hints:\n",
        "Use ** operator to get power of a number.\n",
        "Use range() for loops.\n",
        "Use list.append() to add values into a list.\n",
        "Use [n1:n2] to slice a list\n",
        "\n"
      ]
    },
    {
      "cell_type": "code",
      "metadata": {
        "id": "rmC3O7LB_Nw4",
        "colab_type": "code",
        "colab": {}
      },
      "source": [
        ""
      ],
      "execution_count": 0,
      "outputs": []
    },
    {
      "cell_type": "markdown",
      "metadata": {
        "id": "vbPlFwDv_Nw5",
        "colab_type": "text"
      },
      "source": [
        "\n",
        "Question:\n",
        "Define a function which can generate a list where the values are square of numbers between 1 and 20 (both included). Then the function needs to print all values except the first 5 elements in the list.\n",
        "\n",
        "Hints:\n",
        "Use ** operator to get power of a number.\n",
        "Use range() for loops.\n",
        "Use list.append() to add values into a list.\n",
        "Use [n1:n2] to slice a list\n",
        "\n"
      ]
    },
    {
      "cell_type": "code",
      "metadata": {
        "id": "wmF3dzEN_Nw6",
        "colab_type": "code",
        "colab": {}
      },
      "source": [
        ""
      ],
      "execution_count": 0,
      "outputs": []
    },
    {
      "cell_type": "markdown",
      "metadata": {
        "id": "LAvTr5in_Nw9",
        "colab_type": "text"
      },
      "source": [
        "\n",
        "Question:\n",
        "Define a function which can generate and print a tuple where the value are square of numbers between 1 and 20 (both included). \n",
        "\n",
        "Hints:\n",
        "Use ** operator to get power of a number.\n",
        "Use range() for loops.\n",
        "Use list.append() to add values into a list.\n",
        "Use tuple() to get a tuple from a list.\n",
        "\n"
      ]
    },
    {
      "cell_type": "code",
      "metadata": {
        "id": "dE_KoaKB_Nw9",
        "colab_type": "code",
        "colab": {}
      },
      "source": [
        ""
      ],
      "execution_count": 0,
      "outputs": []
    },
    {
      "cell_type": "markdown",
      "metadata": {
        "id": "L2blQV2X_Nw_",
        "colab_type": "text"
      },
      "source": [
        "\n",
        "Question:\n",
        "With a given tuple (1,2,3,4,5,6,7,8,9,10), write a program to print the first half values in one line and the last half values in one line. \n",
        "\n",
        "Hints:\n",
        "Use [n1:n2] notation to get a slice from a tuple.\n",
        "\n"
      ]
    },
    {
      "cell_type": "code",
      "metadata": {
        "id": "GBqwGccc_Nw_",
        "colab_type": "code",
        "colab": {}
      },
      "source": [
        ""
      ],
      "execution_count": 0,
      "outputs": []
    },
    {
      "cell_type": "markdown",
      "metadata": {
        "id": "-4H1eyEd_NxB",
        "colab_type": "text"
      },
      "source": [
        "\n",
        "Question:\n",
        "Write a program to generate and print another tuple whose values are even numbers in the given tuple (1,2,3,4,5,6,7,8,9,10). \n",
        "\n",
        "Hints:\n",
        "Use 'for' to iterate the tuple\n",
        "Use tuple() to generate a tuple from a list.\n",
        "\n"
      ]
    },
    {
      "cell_type": "code",
      "metadata": {
        "id": "NDmPHT9S_NxB",
        "colab_type": "code",
        "colab": {}
      },
      "source": [
        ""
      ],
      "execution_count": 0,
      "outputs": []
    },
    {
      "cell_type": "markdown",
      "metadata": {
        "id": "pjikMzWs_NxD",
        "colab_type": "text"
      },
      "source": [
        "\n",
        "Question:\n",
        "Write a program which accepts a string as input to print 'Yes' if the string is 'yes' or 'YES' or 'Yes', otherwise print 'No'. \n",
        "\n",
        "Hints:\n",
        "Use if statement to judge condition.\n",
        "\n"
      ]
    },
    {
      "cell_type": "code",
      "metadata": {
        "id": "JNjsN-n7_NxD",
        "colab_type": "code",
        "colab": {}
      },
      "source": [
        ""
      ],
      "execution_count": 0,
      "outputs": []
    },
    {
      "cell_type": "markdown",
      "metadata": {
        "id": "JmW1NVKt_NxE",
        "colab_type": "text"
      },
      "source": [
        "\n",
        "Question:\n",
        "Write a program which can filter even numbers in a list by using filter function. The list is: [1,2,3,4,5,6,7,8,9,10].\n",
        "\n",
        "Hints:\n",
        "Use filter() to filter some elements in a list.\n",
        "Use lambda to define anonymous functions.\n",
        "\n"
      ]
    },
    {
      "cell_type": "code",
      "metadata": {
        "id": "QKI5afkE_NxF",
        "colab_type": "code",
        "colab": {}
      },
      "source": [
        ""
      ],
      "execution_count": 0,
      "outputs": []
    },
    {
      "cell_type": "markdown",
      "metadata": {
        "id": "XkSl2wsT_NxG",
        "colab_type": "text"
      },
      "source": [
        "\n",
        "Question:\n",
        "Write a program which can map() to make a list whose elements are square of elements in [1,2,3,4,5,6,7,8,9,10].\n",
        "\n",
        "Hints:\n",
        "Use map() to generate a list.\n",
        "Use lambda to define anonymous functions.\n",
        "\n"
      ]
    },
    {
      "cell_type": "code",
      "metadata": {
        "id": "DToAyO3t_NxG",
        "colab_type": "code",
        "colab": {}
      },
      "source": [
        ""
      ],
      "execution_count": 0,
      "outputs": []
    },
    {
      "cell_type": "markdown",
      "metadata": {
        "id": "urtU-FDG_NxI",
        "colab_type": "text"
      },
      "source": [
        "\n",
        "Question:\n",
        "Write a program which can map() and filter() to make a list whose elements are square of even number in [1,2,3,4,5,6,7,8,9,10].\n",
        "\n",
        "Hints:\n",
        "Use map() to generate a list.\n",
        "Use filter() to filter elements of a list.\n",
        "Use lambda to define anonymous functions.\n",
        "\n"
      ]
    },
    {
      "cell_type": "code",
      "metadata": {
        "id": "ek0ajUQZ_NxK",
        "colab_type": "code",
        "colab": {}
      },
      "source": [
        ""
      ],
      "execution_count": 0,
      "outputs": []
    },
    {
      "cell_type": "markdown",
      "metadata": {
        "id": "X8SGjyFf_NxM",
        "colab_type": "text"
      },
      "source": [
        "\n",
        "Question:\n",
        "Write a program which can filter() to make a list whose elements are even number between 1 and 20 (both included).\n",
        "\n",
        "Hints:\n",
        "Use filter() to filter elements of a list.\n",
        "Use lambda to define anonymous functions.\n",
        "\n"
      ]
    },
    {
      "cell_type": "code",
      "metadata": {
        "id": "B6MfyeDj_NxM",
        "colab_type": "code",
        "colab": {}
      },
      "source": [
        ""
      ],
      "execution_count": 0,
      "outputs": []
    },
    {
      "cell_type": "markdown",
      "metadata": {
        "id": "GLUhA1z7_NxO",
        "colab_type": "text"
      },
      "source": [
        "\n",
        "Question:\n",
        "Write a program which can map() to make a list whose elements are square of numbers between 1 and 20 (both included).\n",
        "\n",
        "Hints:\n",
        "Use map() to generate a list.\n",
        "Use lambda to define anonymous functions.\n",
        "\n"
      ]
    },
    {
      "cell_type": "code",
      "metadata": {
        "id": "1k4nPM6h_NxO",
        "colab_type": "code",
        "colab": {}
      },
      "source": [
        ""
      ],
      "execution_count": 0,
      "outputs": []
    },
    {
      "cell_type": "markdown",
      "metadata": {
        "id": "lmWYPfO3_NxQ",
        "colab_type": "text"
      },
      "source": [
        "\n",
        "Question:\n",
        "Define a class named American which has a static method called printNationality.\n",
        "\n",
        "Hints:\n",
        "Use @staticmethod decorator to define class static method.\n",
        "\n"
      ]
    },
    {
      "cell_type": "code",
      "metadata": {
        "id": "A4ohJE4f_NxQ",
        "colab_type": "code",
        "colab": {}
      },
      "source": [
        ""
      ],
      "execution_count": 0,
      "outputs": []
    },
    {
      "cell_type": "markdown",
      "metadata": {
        "id": "Mhn0eyWV_NxS",
        "colab_type": "text"
      },
      "source": [
        "\n",
        "Question:\n",
        "Define a class named American and its subclass NewYorker. \n",
        "\n",
        "Hints:\n",
        "Use class Subclass(ParentClass) to define a subclass.\n",
        "\n"
      ]
    },
    {
      "cell_type": "code",
      "metadata": {
        "id": "Gl7tfGmw_NxS",
        "colab_type": "code",
        "colab": {}
      },
      "source": [
        ""
      ],
      "execution_count": 0,
      "outputs": []
    },
    {
      "cell_type": "markdown",
      "metadata": {
        "id": "UWZJGGi6_NxT",
        "colab_type": "text"
      },
      "source": [
        "\n",
        "Question:\n",
        "Define a class named Circle which can be constructed by a radius. The Circle class has a method which can compute the area. \n",
        "\n",
        "Hints:\n",
        "Use def methodName(self) to define a method.\n",
        "\n"
      ]
    },
    {
      "cell_type": "code",
      "metadata": {
        "id": "wZeOuNep_NxU",
        "colab_type": "code",
        "colab": {}
      },
      "source": [
        ""
      ],
      "execution_count": 0,
      "outputs": []
    },
    {
      "cell_type": "markdown",
      "metadata": {
        "id": "-hW7aPlS_NxV",
        "colab_type": "text"
      },
      "source": [
        "\n",
        "Define a class named Rectangle which can be constructed by a length and width. The Rectangle class has a method which can compute the area. \n",
        "\n",
        "Hints:\n",
        "Use def methodName(self) to define a method.\n",
        "\n"
      ]
    },
    {
      "cell_type": "code",
      "metadata": {
        "id": "l9m6aLbw_NxV",
        "colab_type": "code",
        "colab": {}
      },
      "source": [
        ""
      ],
      "execution_count": 0,
      "outputs": []
    },
    {
      "cell_type": "markdown",
      "metadata": {
        "id": "IXVFWsYf_NxW",
        "colab_type": "text"
      },
      "source": [
        "\n",
        "Define a class named Shape and its subclass Square. The Square class has an init function which takes a length as argument. Both classes have a area function which can print the area of the shape where Shape's area is 0 by default.\n",
        "\n",
        "Hints:\n",
        "To override a method in super class, we can define a method with the same name in the super class.\n",
        "\n"
      ]
    },
    {
      "cell_type": "code",
      "metadata": {
        "id": "LVPrFPxb_NxX",
        "colab_type": "code",
        "colab": {}
      },
      "source": [
        ""
      ],
      "execution_count": 0,
      "outputs": []
    },
    {
      "cell_type": "markdown",
      "metadata": {
        "id": "w7klj_UI_NxY",
        "colab_type": "text"
      },
      "source": [
        "\n",
        "\n",
        "Please raise a RuntimeError exception.\n",
        "\n",
        "Hints:\n",
        "Use raise() to raise an exception.\n",
        "\n"
      ]
    },
    {
      "cell_type": "code",
      "metadata": {
        "id": "4sIF7k5g_NxY",
        "colab_type": "code",
        "colab": {}
      },
      "source": [
        ""
      ],
      "execution_count": 0,
      "outputs": []
    },
    {
      "cell_type": "markdown",
      "metadata": {
        "id": "eeMiqf5i_NxZ",
        "colab_type": "text"
      },
      "source": [
        "\n",
        "Write a function to compute 5/0 and use try/except to catch the exceptions.\n",
        "\n",
        "Hints:\n",
        "Use try/except to catch exceptions.\n",
        "\n"
      ]
    },
    {
      "cell_type": "code",
      "metadata": {
        "id": "mPAye8Go_Nxa",
        "colab_type": "code",
        "colab": {}
      },
      "source": [
        ""
      ],
      "execution_count": 0,
      "outputs": []
    },
    {
      "cell_type": "markdown",
      "metadata": {
        "id": "kvDngNys_Nxc",
        "colab_type": "text"
      },
      "source": [
        "\n",
        "Define a custom exception class which takes a string message as attribute.\n",
        "\n",
        "Hints:\n",
        "To define a custom exception, we need to define a class inherited from Exception.\n",
        "\n"
      ]
    },
    {
      "cell_type": "code",
      "metadata": {
        "id": "xb9Mkvs4_Nxc",
        "colab_type": "code",
        "colab": {}
      },
      "source": [
        ""
      ],
      "execution_count": 0,
      "outputs": []
    },
    {
      "cell_type": "markdown",
      "metadata": {
        "id": "REGbpDcf_Nxe",
        "colab_type": "text"
      },
      "source": [
        "\n",
        "Question:\n",
        "Assuming that we have some email addresses in the 'username@companyname.com' format, please write program to print the user name of a given email address. Both user names and company names are composed of letters only.\n",
        "Example:\n",
        "If the following email address is given as input to the program:\n",
        "john@google.com\n",
        "Then, the output of the program should be:\n",
        "john\n",
        "In case of input data being supplied to the question, it should be assumed to be a console input.\n",
        "\n",
        "Hints:\n",
        "Use  to match letters.\n",
        "\n"
      ]
    },
    {
      "cell_type": "code",
      "metadata": {
        "id": "w4FZ-VPa_Nxe",
        "colab_type": "code",
        "colab": {}
      },
      "source": [
        ""
      ],
      "execution_count": 0,
      "outputs": []
    },
    {
      "cell_type": "markdown",
      "metadata": {
        "id": "jRW3fqzs_Nxf",
        "colab_type": "text"
      },
      "source": [
        "\n",
        "Question:\n",
        "Assuming that we have some email addresses in the 'username@companyname.com' format, please write program to print the company name of a given email address. Both user names and company names are composed of letters only.\n",
        "Example:\n",
        "If the following email address is given as input to the program:\n",
        "john@google.com\n",
        "Then, the output of the program should be:\n",
        "google\n",
        "In case of input data being supplied to the question, it should be assumed to be a console input.\n",
        "\n",
        "Hints:\n",
        "Use  to match letters.\n",
        "\n"
      ]
    },
    {
      "cell_type": "code",
      "metadata": {
        "id": "5EQvAxEA_Nxg",
        "colab_type": "code",
        "colab": {}
      },
      "source": [
        ""
      ],
      "execution_count": 0,
      "outputs": []
    },
    {
      "cell_type": "markdown",
      "metadata": {
        "id": "WNzlNOGZ_Nxi",
        "colab_type": "text"
      },
      "source": [
        "\n",
        "Question:\n",
        "Write a program which accepts a sequence of words separated by whitespace as input to print the words composed of digits only.\n",
        "Example:\n",
        "If the following words is given as input to the program:\n",
        "2 cats and 3 dogs.\n",
        "Then, the output of the program should be:\n",
        "['2', '3']\n",
        "In case of input data being supplied to the question, it should be assumed to be a console input.\n",
        "\n",
        "Hints:\n",
        "Use re.findall() to find all substring using regex.\n",
        "\n"
      ]
    },
    {
      "cell_type": "code",
      "metadata": {
        "id": "N_wTK34f_Nxj",
        "colab_type": "code",
        "colab": {}
      },
      "source": [
        ""
      ],
      "execution_count": 0,
      "outputs": []
    },
    {
      "cell_type": "markdown",
      "metadata": {
        "id": "rSHiKIzJ_Nxk",
        "colab_type": "text"
      },
      "source": [
        "\n",
        "Question:\n",
        "\n",
        "Print a unicode string 'hello world'.\n",
        "\n",
        "Hints:\n",
        "Use u'strings' format to define unicode string.\n",
        "\n"
      ]
    },
    {
      "cell_type": "code",
      "metadata": {
        "id": "PoU8gIYm_Nxk",
        "colab_type": "code",
        "colab": {}
      },
      "source": [
        ""
      ],
      "execution_count": 0,
      "outputs": []
    },
    {
      "cell_type": "markdown",
      "metadata": {
        "id": "rGDF8bEB_Nxl",
        "colab_type": "text"
      },
      "source": [
        "\n",
        "Write a program to read an ASCII string and to convert it to a unicode string encoded by utf-8.\n",
        "\n",
        "Hints:\n",
        "Use unicode() function to convert.\n",
        "\n"
      ]
    },
    {
      "cell_type": "code",
      "metadata": {
        "id": "Lxv00U-O_Nxm",
        "colab_type": "code",
        "colab": {}
      },
      "source": [
        ""
      ],
      "execution_count": 0,
      "outputs": []
    },
    {
      "cell_type": "markdown",
      "metadata": {
        "id": "iBBZeJBr_Nxn",
        "colab_type": "text"
      },
      "source": [
        "\n",
        "Question:\n",
        "Write a special comment to indicate a Python source code file is in unicode.\n",
        "\n",
        "Hints:\n",
        "\n"
      ]
    },
    {
      "cell_type": "code",
      "metadata": {
        "id": "8BrdpF1W_Nxn",
        "colab_type": "code",
        "colab": {}
      },
      "source": [
        ""
      ],
      "execution_count": 0,
      "outputs": []
    },
    {
      "cell_type": "markdown",
      "metadata": {
        "id": "VxsrQYz4_Nxo",
        "colab_type": "text"
      },
      "source": [
        "\n",
        "Question:\n",
        "Write a program to compute 1/2+2/3+3/4+...+n/n+1 with a given n input by console (n>0).\n",
        "Example:\n",
        "If the following n is given as input to the program:\n",
        "5\n",
        "Then, the output of the program should be:\n",
        "3.55\n",
        "In case of input data being supplied to the question, it should be assumed to be a console input.\n",
        "\n",
        "Hints:\n",
        "Use float() to convert an integer to a float\n",
        "\n"
      ]
    },
    {
      "cell_type": "code",
      "metadata": {
        "id": "2r4yzJaG_Nxp",
        "colab_type": "code",
        "colab": {}
      },
      "source": [
        ""
      ],
      "execution_count": 0,
      "outputs": []
    },
    {
      "cell_type": "markdown",
      "metadata": {
        "id": "anzKr3II_Nxq",
        "colab_type": "text"
      },
      "source": [
        "\n",
        "Question:\n",
        "Write a program to compute:\n",
        "f(n)=f(n-1)+100 when n>0\n",
        "and f(0)=1\n",
        "with a given n input by console (n>0).\n",
        "Example:\n",
        "If the following n is given as input to the program:\n",
        "5\n",
        "Then, the output of the program should be:\n",
        "500\n",
        "In case of input data being supplied to the question, it should be assumed to be a console input.\n",
        "\n",
        "Hints:\n",
        "We can define recursive function in Python.\n",
        "\n"
      ]
    },
    {
      "cell_type": "code",
      "metadata": {
        "id": "ffKr7YT5_Nxq",
        "colab_type": "code",
        "colab": {}
      },
      "source": [
        ""
      ],
      "execution_count": 0,
      "outputs": []
    },
    {
      "cell_type": "markdown",
      "metadata": {
        "id": "3bh2Diw-_Nxr",
        "colab_type": "text"
      },
      "source": [
        "\n",
        "Question:\n",
        "\n",
        "The Fibonacci Sequence is computed based on the following formula:\n",
        "\n",
        "f(n)=0 if n=0\n",
        "f(n)=1 if n=1\n",
        "f(n)=f(n-1)+f(n-2) if n>1\n",
        "Please write a program to compute the value of f(n) with a given n input by console.\n",
        "Example:\n",
        "If the following n is given as input to the program:\n",
        "7\n",
        "Then, the output of the program should be:\n",
        "13\n",
        "In case of input data being supplied to the question, it should be assumed to be a console input.\n",
        "\n",
        "Hints:\n",
        "We can define recursive function in Python.\n",
        "\n",
        "\n"
      ]
    },
    {
      "cell_type": "code",
      "metadata": {
        "id": "v-Z-JFpf_Nxs",
        "colab_type": "code",
        "colab": {}
      },
      "source": [
        ""
      ],
      "execution_count": 0,
      "outputs": []
    },
    {
      "cell_type": "markdown",
      "metadata": {
        "id": "QiXOnHM-_Nxu",
        "colab_type": "text"
      },
      "source": [
        "\n",
        "Question:\n",
        "The Fibonacci Sequence is computed based on the following formula:\n",
        "\n",
        "f(n)=0 if n=0\n",
        "f(n)=1 if n=1\n",
        "f(n)=f(n-1)+f(n-2) if n>1\n",
        "Please write a program using list comprehension to print the Fibonacci Sequence in comma separated form with a given n input by console.\n",
        "Example:\n",
        "If the following n is given as input to the program:\n",
        "7\n",
        "Then, the output of the program should be:\n",
        "0,1,1,2,3,5,8,13\n",
        "\n",
        "\n",
        "Hints:\n",
        "We can define recursive function in Python.\n",
        "Use list comprehension to generate a list from an existing list.\n",
        "Use string.join() to join a list of strings.\n",
        "In case of input data being supplied to the question, it should be assumed to be a console input.\n",
        "\n"
      ]
    },
    {
      "cell_type": "code",
      "metadata": {
        "id": "bhVdl4So_Nxu",
        "colab_type": "code",
        "colab": {}
      },
      "source": [
        ""
      ],
      "execution_count": 0,
      "outputs": []
    },
    {
      "cell_type": "markdown",
      "metadata": {
        "id": "02hRJDvz_Nxv",
        "colab_type": "text"
      },
      "source": [
        "\n",
        "Question:\n",
        "Please write a program using generator to print the even numbers between 0 and n in comma separated form while n is input by console.\n",
        "Example:\n",
        "If the following n is given as input to the program:\n",
        "10\n",
        "Then, the output of the program should be:\n",
        "0,2,4,6,8,10\n",
        "\n",
        "Hints:\n",
        "Use yield to produce the next value in generator.\n",
        "In case of input data being supplied to the question, it should be assumed to be a console input.\n",
        "\n"
      ]
    },
    {
      "cell_type": "code",
      "metadata": {
        "id": "GxYVwVAB_Nxv",
        "colab_type": "code",
        "colab": {}
      },
      "source": [
        ""
      ],
      "execution_count": 0,
      "outputs": []
    },
    {
      "cell_type": "markdown",
      "metadata": {
        "id": "w7FbQ5hq_Nxx",
        "colab_type": "text"
      },
      "source": [
        "\n",
        "Question:\n",
        "Please write a program using generator to print the numbers which can be divisible by 5 and 7 between 0 and n in comma separated form while n is input by console.\n",
        "Example:\n",
        "If the following n is given as input to the program:\n",
        "100\n",
        "Then, the output of the program should be:\n",
        "0,35,70\n",
        "\n",
        "Hints:\n",
        "Use yield to produce the next value in generator.\n",
        "In case of input data being supplied to the question, it should be assumed to be a console input.\n",
        "\n"
      ]
    },
    {
      "cell_type": "code",
      "metadata": {
        "id": "e_5ubzXn_Nxx",
        "colab_type": "code",
        "colab": {}
      },
      "source": [
        ""
      ],
      "execution_count": 0,
      "outputs": []
    },
    {
      "cell_type": "markdown",
      "metadata": {
        "id": "qv_nj0Od_Nxz",
        "colab_type": "text"
      },
      "source": [
        "\n",
        "Question:\n",
        "\n",
        "Please write assert statements to verify that every number in the list [2,4,6,8] is even.\n",
        "\n",
        "\n",
        "Hints:\n",
        "Use 'assert expression' to make assertion.\n",
        "\n",
        "\n"
      ]
    },
    {
      "cell_type": "code",
      "metadata": {
        "id": "_1p89sWo_Nx0",
        "colab_type": "code",
        "colab": {}
      },
      "source": [
        ""
      ],
      "execution_count": 0,
      "outputs": []
    },
    {
      "cell_type": "markdown",
      "metadata": {
        "id": "G8lgYGCt_Nx1",
        "colab_type": "text"
      },
      "source": [
        "\n",
        "Question:\n",
        "Please write a program which accepts basic mathematic expression from console and print the evaluation result.\n",
        "Example:\n",
        "If the following string is given as input to the program:\n",
        "35+3\n",
        "Then, the output of the program should be:\n",
        "38\n",
        "\n",
        "Hints:\n",
        "Use eval() to evaluate an expression.\n",
        "\n",
        "\n"
      ]
    },
    {
      "cell_type": "code",
      "metadata": {
        "id": "p8Jb1f3v_Nx1",
        "colab_type": "code",
        "colab": {}
      },
      "source": [
        ""
      ],
      "execution_count": 0,
      "outputs": []
    },
    {
      "cell_type": "markdown",
      "metadata": {
        "id": "aUgiSatF_Nx5",
        "colab_type": "text"
      },
      "source": [
        "\n",
        "Question:\n",
        "Please write a binary search function which searches an item in a sorted list. The function should return the index of element to be searched in the list.\n",
        "\n",
        "\n",
        "Hints:\n",
        "Use if/elif to deal with conditions.\n",
        "\n",
        "\n"
      ]
    },
    {
      "cell_type": "code",
      "metadata": {
        "id": "-V1T1Mbt_Nx5",
        "colab_type": "code",
        "colab": {}
      },
      "source": [
        ""
      ],
      "execution_count": 0,
      "outputs": []
    },
    {
      "cell_type": "markdown",
      "metadata": {
        "id": "TWQvSTfF_Nx7",
        "colab_type": "text"
      },
      "source": [
        "\n",
        "Question:\n",
        "Please write a binary search function which searches an item in a sorted list. The function should return the index of element to be searched in the list.\n",
        "\n",
        "\n",
        "Hints:\n",
        "Use if/elif to deal with conditions.\n",
        "\n",
        "\n"
      ]
    },
    {
      "cell_type": "code",
      "metadata": {
        "id": "ed0YHxL0_Nx7",
        "colab_type": "code",
        "colab": {}
      },
      "source": [
        ""
      ],
      "execution_count": 0,
      "outputs": []
    },
    {
      "cell_type": "markdown",
      "metadata": {
        "id": "150o-rKs_Nx8",
        "colab_type": "text"
      },
      "source": [
        "\n",
        "Question:\n",
        "Please generate a random float where the value is between 10 and 100 using Python math module.\n",
        "\n",
        "\n",
        "Hints:\n",
        "Use random.random() to generate a random float in [0,1].\n",
        "\n",
        "\n"
      ]
    },
    {
      "cell_type": "code",
      "metadata": {
        "id": "UBjCxPPD_Nx9",
        "colab_type": "code",
        "colab": {}
      },
      "source": [
        ""
      ],
      "execution_count": 0,
      "outputs": []
    },
    {
      "cell_type": "markdown",
      "metadata": {
        "id": "X926ZMwW_Nx-",
        "colab_type": "text"
      },
      "source": [
        "\n",
        "Question:\n",
        "Please generate a random float where the value is between 5 and 95 using Python math module.\n",
        "\n",
        "\n",
        "Hints:\n",
        "Use random.random() to generate a random float in [0,1].\n",
        "\n",
        "\n"
      ]
    },
    {
      "cell_type": "code",
      "metadata": {
        "id": "I2g3c6J0_Nx-",
        "colab_type": "code",
        "colab": {}
      },
      "source": [
        ""
      ],
      "execution_count": 0,
      "outputs": []
    },
    {
      "cell_type": "markdown",
      "metadata": {
        "id": "MxHs3F8V_Nx_",
        "colab_type": "text"
      },
      "source": [
        "\n",
        "Question:\n",
        "Please write a program to output a random even number between 0 and 10 inclusive using random module and list comprehension.\n",
        "\n",
        "\n",
        "Hints:\n",
        "Use random.choice() to a random element from a list.\n",
        "\n",
        "\n"
      ]
    },
    {
      "cell_type": "code",
      "metadata": {
        "id": "s4pldN3e_Nx_",
        "colab_type": "code",
        "colab": {}
      },
      "source": [
        ""
      ],
      "execution_count": 0,
      "outputs": []
    },
    {
      "cell_type": "markdown",
      "metadata": {
        "id": "B0xfAnEW_NyB",
        "colab_type": "text"
      },
      "source": [
        "\n",
        "Question:\n",
        "Please write a program to output a random number, which is divisible by 5 and 7, between 0 and 10 inclusive using random module and list comprehension.\n",
        "\n",
        "\n",
        "Hints:\n",
        "Use random.choice() to a random element from a list.\n",
        "\n",
        "\n"
      ]
    },
    {
      "cell_type": "code",
      "metadata": {
        "id": "9KIMXEs4_NyB",
        "colab_type": "code",
        "colab": {}
      },
      "source": [
        ""
      ],
      "execution_count": 0,
      "outputs": []
    },
    {
      "cell_type": "markdown",
      "metadata": {
        "id": "sQDZWBgu_NyD",
        "colab_type": "text"
      },
      "source": [
        "\n",
        "Question:\n",
        "Please write a program to generate a list with 5 random numbers between 100 and 200 inclusive.\n",
        "\n",
        "\n",
        "Hints:\n",
        "Use random.sample() to generate a list of random values.\n",
        "\n",
        "\n"
      ]
    },
    {
      "cell_type": "code",
      "metadata": {
        "id": "R-GnFNc9_NyD",
        "colab_type": "code",
        "colab": {}
      },
      "source": [
        ""
      ],
      "execution_count": 0,
      "outputs": []
    },
    {
      "cell_type": "markdown",
      "metadata": {
        "id": "egrO0wKJ_NyE",
        "colab_type": "text"
      },
      "source": [
        "\n",
        "Question:\n",
        "Please write a program to randomly generate a list with 5 even numbers between 100 and 200 inclusive.\n",
        "\n",
        "\n",
        "Hints:\n",
        "Use random.sample() to generate a list of random values.\n",
        "\n",
        "\n"
      ]
    },
    {
      "cell_type": "code",
      "metadata": {
        "id": "zqcWdV2u_NyF",
        "colab_type": "code",
        "colab": {}
      },
      "source": [
        ""
      ],
      "execution_count": 0,
      "outputs": []
    },
    {
      "cell_type": "markdown",
      "metadata": {
        "id": "TTiiLUXT_NyG",
        "colab_type": "text"
      },
      "source": [
        "\n",
        "Question:\n",
        "Please write a program to randomly generate a list with 5 numbers, which are divisible by 5 and 7 , between 1 and 1000 inclusive.\n",
        "\n",
        "\n",
        "Hints:\n",
        "Use random.sample() to generate a list of random values.\n",
        "\n",
        "\n"
      ]
    },
    {
      "cell_type": "code",
      "metadata": {
        "id": "yZ00XuUb_NyG",
        "colab_type": "code",
        "colab": {}
      },
      "source": [
        ""
      ],
      "execution_count": 0,
      "outputs": []
    },
    {
      "cell_type": "markdown",
      "metadata": {
        "id": "DUre1uqU_NyH",
        "colab_type": "text"
      },
      "source": [
        "\n",
        "Question:\n",
        "Please write a program to randomly print a integer number between 7 and 15 inclusive.\n",
        "\n",
        "\n",
        "Hints:\n",
        "Use random.randrange() to a random integer in a given range.\n",
        "\n",
        "\n"
      ]
    },
    {
      "cell_type": "code",
      "metadata": {
        "id": "2u4cbT8__NyI",
        "colab_type": "code",
        "colab": {}
      },
      "source": [
        ""
      ],
      "execution_count": 0,
      "outputs": []
    },
    {
      "cell_type": "markdown",
      "metadata": {
        "id": "8UZU3IFZ_NyJ",
        "colab_type": "text"
      },
      "source": [
        "\n",
        "Question:\n",
        "Please write a program to compress and decompress the string 'hello world!hello world!hello world!hello world!'.\n",
        "\n",
        "\n",
        "Hints:\n",
        "Use zlib.compress() and zlib.decompress() to compress and decompress a string.\n",
        "\n",
        "\n"
      ]
    },
    {
      "cell_type": "code",
      "metadata": {
        "id": "TIlv8jfL_NyJ",
        "colab_type": "code",
        "colab": {}
      },
      "source": [
        ""
      ],
      "execution_count": 0,
      "outputs": []
    },
    {
      "cell_type": "markdown",
      "metadata": {
        "id": "izOhkm6__NyL",
        "colab_type": "text"
      },
      "source": [
        "\n",
        "Question:\n",
        "Please write a program to print the running time of execution of '1+1' for 100 times.\n",
        "\n",
        "\n",
        "Hints:\n",
        "Use timeit() function to measure the running time.\n",
        "\n"
      ]
    },
    {
      "cell_type": "code",
      "metadata": {
        "id": "qY6agzPw_NyL",
        "colab_type": "code",
        "colab": {}
      },
      "source": [
        ""
      ],
      "execution_count": 0,
      "outputs": []
    },
    {
      "cell_type": "markdown",
      "metadata": {
        "id": "QC43J9w5_NyM",
        "colab_type": "text"
      },
      "source": [
        "\n",
        "Question:\n",
        "Please write a program to shuffle and print the list [3,6,7,8].\n",
        "\n",
        "\n",
        "Hints:\n",
        "Use shuffle() function to shuffle a list.\n",
        "\n"
      ]
    },
    {
      "cell_type": "code",
      "metadata": {
        "id": "kFSMS1Y9_NyN",
        "colab_type": "code",
        "colab": {}
      },
      "source": [
        ""
      ],
      "execution_count": 0,
      "outputs": []
    },
    {
      "cell_type": "markdown",
      "metadata": {
        "id": "omLuP0df_NyO",
        "colab_type": "text"
      },
      "source": [
        "\n",
        "Question:\n",
        "Please write a program to shuffle and print the list [3,6,7,8].\n",
        "\n",
        "\n",
        "Hints:\n",
        "Use shuffle() function to shuffle a list.\n",
        "\n",
        "\n"
      ]
    },
    {
      "cell_type": "code",
      "metadata": {
        "id": "TJRl4iQA_NyO",
        "colab_type": "code",
        "colab": {}
      },
      "source": [
        ""
      ],
      "execution_count": 0,
      "outputs": []
    },
    {
      "cell_type": "markdown",
      "metadata": {
        "id": "c1FXIoY5_NyQ",
        "colab_type": "text"
      },
      "source": [
        "\n",
        "Question:\n",
        "Please write a program to generate all sentences where subject is in ['I', 'You'] and verb is in ['Play', 'Love'] and the object is in ['Hockey','Football'].\n",
        "\n",
        "Hints:\n",
        "Use list[index] notation to get a element from a list.\n",
        "\n"
      ]
    },
    {
      "cell_type": "code",
      "metadata": {
        "id": "K7JA7ff1_NyQ",
        "colab_type": "code",
        "colab": {}
      },
      "source": [
        ""
      ],
      "execution_count": 0,
      "outputs": []
    },
    {
      "cell_type": "markdown",
      "metadata": {
        "id": "fnE_aL9q_NyS",
        "colab_type": "text"
      },
      "source": [
        "\n",
        "Please write a program to print the list after removing delete even numbers in [5,6,77,45,22,12,24].\n",
        "\n",
        "Hints:\n",
        "Use list comprehension to delete a bunch of element from a list.\n",
        "\n"
      ]
    },
    {
      "cell_type": "code",
      "metadata": {
        "id": "xJBe8USb_NyU",
        "colab_type": "code",
        "colab": {}
      },
      "source": [
        ""
      ],
      "execution_count": 0,
      "outputs": []
    },
    {
      "cell_type": "markdown",
      "metadata": {
        "id": "lDwykY-g_NyW",
        "colab_type": "text"
      },
      "source": [
        "\n",
        "Question:\n",
        "By using list comprehension, please write a program to print the list after removing delete numbers which are divisible by 5 and 7 in [12,24,35,70,88,120,155].\n",
        "\n",
        "Hints:\n",
        "Use list comprehension to delete a bunch of element from a list.\n",
        "\n"
      ]
    },
    {
      "cell_type": "code",
      "metadata": {
        "id": "3cR1_eth_NyW",
        "colab_type": "code",
        "colab": {}
      },
      "source": [
        ""
      ],
      "execution_count": 0,
      "outputs": []
    },
    {
      "cell_type": "markdown",
      "metadata": {
        "id": "wJeXoTnC_NyY",
        "colab_type": "text"
      },
      "source": [
        "\n",
        "Question:\n",
        "By using list comprehension, please write a program to print the list after removing the 0th, 2nd, 4th,6th numbers in [12,24,35,70,88,120,155].\n",
        "\n",
        "Hints:\n",
        "Use list comprehension to delete a bunch of element from a list.\n",
        "Use enumerate() to get (index, value) tuple.\n",
        "\n"
      ]
    },
    {
      "cell_type": "code",
      "metadata": {
        "id": "UBz1PeZo_NyY",
        "colab_type": "code",
        "colab": {}
      },
      "source": [
        ""
      ],
      "execution_count": 0,
      "outputs": []
    },
    {
      "cell_type": "markdown",
      "metadata": {
        "id": "7IPAFF9c_NyZ",
        "colab_type": "text"
      },
      "source": [
        "\n",
        "Question:\n",
        "By using list comprehension, please write a program generate a 3*5*8 3D array whose each element is 0.\n",
        "\n",
        "Hints:\n",
        "Use list comprehension to make an array.\n",
        "\n"
      ]
    },
    {
      "cell_type": "code",
      "metadata": {
        "id": "BArxgYur_NyZ",
        "colab_type": "code",
        "colab": {}
      },
      "source": [
        ""
      ],
      "execution_count": 0,
      "outputs": []
    },
    {
      "cell_type": "markdown",
      "metadata": {
        "id": "BQhrLQzI_Nya",
        "colab_type": "text"
      },
      "source": [
        "\n",
        "Question:\n",
        "By using list comprehension, please write a program to print the list after removing the 0th,4th,5th numbers in [12,24,35,70,88,120,155].\n",
        "\n",
        "Hints:\n",
        "Use list comprehension to delete a bunch of element from a list.\n",
        "Use enumerate() to get (index, value) tuple.\n",
        "\n"
      ]
    },
    {
      "cell_type": "code",
      "metadata": {
        "id": "5QC7LDVo_Nyc",
        "colab_type": "code",
        "colab": {}
      },
      "source": [
        ""
      ],
      "execution_count": 0,
      "outputs": []
    },
    {
      "cell_type": "markdown",
      "metadata": {
        "id": "BwstQXwz_Nyd",
        "colab_type": "text"
      },
      "source": [
        "\n",
        "Question:\n",
        "By using list comprehension, please write a program to print the list after removing the value 24 in [12,24,35,24,88,120,155].\n",
        "\n",
        "Hints:\n",
        "Use list's remove method to delete a value.\n",
        "\n"
      ]
    },
    {
      "cell_type": "code",
      "metadata": {
        "id": "HBCq8_rm_Nyd",
        "colab_type": "code",
        "colab": {}
      },
      "source": [
        ""
      ],
      "execution_count": 0,
      "outputs": []
    },
    {
      "cell_type": "markdown",
      "metadata": {
        "id": "dC42AMfE_Nye",
        "colab_type": "text"
      },
      "source": [
        "\n",
        "Question:\n",
        "With two given lists [1,3,6,78,35,55] and [12,24,35,24,88,120,155], write a program to make a list whose elements are intersection of the above given lists.\n",
        "\n",
        "Hints:\n",
        "Use set() and '&=' to do set intersection operation.\n",
        "\n"
      ]
    },
    {
      "cell_type": "code",
      "metadata": {
        "id": "tvajnfXP_Nye",
        "colab_type": "code",
        "colab": {}
      },
      "source": [
        ""
      ],
      "execution_count": 0,
      "outputs": []
    },
    {
      "cell_type": "markdown",
      "metadata": {
        "id": "hwKMuO3g_Nyf",
        "colab_type": "text"
      },
      "source": [
        "\n",
        "With a given list [12,24,35,24,88,120,155,88,120,155], write a program to print this list after removing all duplicate values with original order reserved.\n",
        "\n",
        "Hints:\n",
        "Use set() to store a number of values without duplicate.\n",
        "\n"
      ]
    },
    {
      "cell_type": "code",
      "metadata": {
        "id": "3aBjGlcp_Nyf",
        "colab_type": "code",
        "colab": {}
      },
      "source": [
        ""
      ],
      "execution_count": 0,
      "outputs": []
    },
    {
      "cell_type": "markdown",
      "metadata": {
        "id": "6n2AAWfN_Nyg",
        "colab_type": "text"
      },
      "source": [
        "\n",
        "Question:\n",
        "Define a class Person and its two child classes: Male and Female. All classes have a method 'getGender' which can print 'Male' for Male class and 'Female' for Female class.\n",
        "\n",
        "Hints:\n",
        "Use Subclass(Parentclass) to define a child class.\n",
        "\n"
      ]
    },
    {
      "cell_type": "code",
      "metadata": {
        "id": "eXs-Zxnd_Nyh",
        "colab_type": "code",
        "colab": {}
      },
      "source": [
        ""
      ],
      "execution_count": 0,
      "outputs": []
    },
    {
      "cell_type": "markdown",
      "metadata": {
        "id": "tnze58Wu_Nyi",
        "colab_type": "text"
      },
      "source": [
        "\n",
        "Question:\n",
        "Please write a program which count and print the numbers of each character in a string input by console.\n",
        "Example:\n",
        "If the following string is given as input to the program:\n",
        "abcdefgabc\n",
        "Then, the output of the program should be:\n",
        "a,2\n",
        "c,2\n",
        "b,2\n",
        "e,1\n",
        "d,1\n",
        "g,1\n",
        "f,1\n",
        "\n",
        "Hints:\n",
        "Use dict to store key/value pairs.\n",
        "Use dict.get() method to lookup a key with default value.\n",
        "\n"
      ]
    },
    {
      "cell_type": "code",
      "metadata": {
        "id": "UclvgS3B_Nyj",
        "colab_type": "code",
        "colab": {}
      },
      "source": [
        ""
      ],
      "execution_count": 0,
      "outputs": []
    },
    {
      "cell_type": "markdown",
      "metadata": {
        "id": "6vCnEEo9_Nyk",
        "colab_type": "text"
      },
      "source": [
        "\n",
        "Question:\n",
        "Please write a program which accepts a string from console and print it in reverse order.\n",
        "Example:\n",
        "If the following string is given as input to the program:\n",
        "rise to vote sir\n",
        "Then, the output of the program should be:\n",
        "ris etov ot esir\n",
        "\n",
        "Hints:\n",
        "Use list[::-1] to iterate a list in a reverse order.\n",
        "\n"
      ]
    },
    {
      "cell_type": "code",
      "metadata": {
        "id": "RTIs3_LF_Nyk",
        "colab_type": "code",
        "colab": {}
      },
      "source": [
        ""
      ],
      "execution_count": 0,
      "outputs": []
    },
    {
      "cell_type": "markdown",
      "metadata": {
        "id": "fP2p0M_b_Nyl",
        "colab_type": "text"
      },
      "source": [
        "\n",
        "Question:\n",
        "Please write a program which accepts a string from console and print the characters that have even indexes.\n",
        "Example:\n",
        "If the following string is given as input to the program:\n",
        "H1e2l3l4o5w6o7r8l9d\n",
        "Then, the output of the program should be:\n",
        "Helloworld\n",
        "\n",
        "Hints:\n",
        "Use list[::2] to iterate a list by step 2.\n",
        "\n"
      ]
    },
    {
      "cell_type": "code",
      "metadata": {
        "id": "Zm_h0BXl_Nym",
        "colab_type": "code",
        "colab": {}
      },
      "source": [
        ""
      ],
      "execution_count": 0,
      "outputs": []
    },
    {
      "cell_type": "markdown",
      "metadata": {
        "id": "A5B0Dbru_Nyn",
        "colab_type": "text"
      },
      "source": [
        "\n",
        "\n",
        "Question:\n",
        "Please write a program which prints all permutations of [1,2,3]\n",
        "\n",
        "\n",
        "Hints:\n",
        "Use itertools.permutations() to get permutations of list.\n",
        "\n"
      ]
    },
    {
      "cell_type": "code",
      "metadata": {
        "id": "9JsBJkQF_Nyn",
        "colab_type": "code",
        "colab": {}
      },
      "source": [
        ""
      ],
      "execution_count": 0,
      "outputs": []
    },
    {
      "cell_type": "markdown",
      "metadata": {
        "id": "YWp5PHxc_Nyo",
        "colab_type": "text"
      },
      "source": [
        "\n",
        "Question:\n",
        "Write a program to solve a classic ancient Chinese puzzle: \n",
        "We count 35 heads and 94 legs among the chickens and rabbits in a farm. How many rabbits and how many chickens do we have?\n",
        "Hint:\n",
        "Use for loop to iterate all possible solutions.\n",
        "\n"
      ]
    },
    {
      "cell_type": "code",
      "metadata": {
        "id": "8kTEXkqW_Nyp",
        "colab_type": "code",
        "colab": {}
      },
      "source": [
        ""
      ],
      "execution_count": 0,
      "outputs": []
    },
    {
      "cell_type": "markdown",
      "metadata": {
        "id": "0CCpEb7t_Nyq",
        "colab_type": "text"
      },
      "source": [
        "## Recursion  execrcises"
      ]
    },
    {
      "cell_type": "markdown",
      "metadata": {
        "id": "T7zdxZfM_Nyq",
        "colab_type": "text"
      },
      "source": [
        "Question: Print the first 20 numbers in fibonacci sequence."
      ]
    },
    {
      "cell_type": "code",
      "metadata": {
        "collapsed": true,
        "id": "yhgg5Dzr_Nyr",
        "colab_type": "code",
        "colab": {}
      },
      "source": [
        ""
      ],
      "execution_count": 0,
      "outputs": []
    },
    {
      "cell_type": "markdown",
      "metadata": {
        "id": "KWE7l_3V_Nys",
        "colab_type": "text"
      },
      "source": [
        "Question: Write a function to compute the factorial of n."
      ]
    },
    {
      "cell_type": "code",
      "metadata": {
        "collapsed": true,
        "id": "FANE3asx_Nyt",
        "colab_type": "code",
        "colab": {}
      },
      "source": [
        ""
      ],
      "execution_count": 0,
      "outputs": []
    },
    {
      "cell_type": "markdown",
      "metadata": {
        "id": "5YK224b9_Nyu",
        "colab_type": "text"
      },
      "source": [
        "Question: Write a Python program of recursion list sum.\n",
        "Example: [1, 2, [3,4], [5,6]]\n",
        "Expected Result: 21"
      ]
    },
    {
      "cell_type": "code",
      "metadata": {
        "collapsed": true,
        "id": "obSsz8lX_Nyu",
        "colab_type": "code",
        "colab": {}
      },
      "source": [
        ""
      ],
      "execution_count": 0,
      "outputs": []
    }
  ]
}